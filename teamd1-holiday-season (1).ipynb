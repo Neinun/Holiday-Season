{
 "cells": [
  {
   "cell_type": "markdown",
   "metadata": {
    "papermill": {
     "duration": 0.016235,
     "end_time": "2021-02-24T10:30:21.920157",
     "exception": false,
     "start_time": "2021-02-24T10:30:21.903922",
     "status": "completed"
    },
    "tags": []
   },
   "source": [
    "# HackerEarth's Deep Learning Challenge: 'Tis STILL the Season to be Jolly\n",
    "\n",
    "* Deadline: 11th February 2021\n",
    "* ### Leaderboard Rank: 118 \n",
    "* Score: 91.0008 \n",
    "\n",
    "\n",
    "## Team Details:\n",
    "1. Swati S Mugda - 01FE18BCS237\n",
    "2. Sumit Kumar Singh - 01FE18BCS231\n",
    "\n"
   ]
  },
  {
   "cell_type": "markdown",
   "metadata": {
    "papermill": {
     "duration": 0.014325,
     "end_time": "2021-02-24T10:30:21.949037",
     "exception": false,
     "start_time": "2021-02-24T10:30:21.934712",
     "status": "completed"
    },
    "tags": []
   },
   "source": [
    "### Importing Libraries"
   ]
  },
  {
   "cell_type": "code",
   "execution_count": 1,
   "metadata": {
    "_cell_guid": "b1076dfc-b9ad-4769-8c92-a6c4dae69d19",
    "_uuid": "8f2839f25d086af736a60e9eeb907d3b93b6e0e5",
    "execution": {
     "iopub.execute_input": "2021-02-24T10:30:21.986294Z",
     "iopub.status.busy": "2021-02-24T10:30:21.985474Z",
     "iopub.status.idle": "2021-02-24T10:30:30.609639Z",
     "shell.execute_reply": "2021-02-24T10:30:30.608930Z"
    },
    "papermill": {
     "duration": 8.645645,
     "end_time": "2021-02-24T10:30:30.609891",
     "exception": false,
     "start_time": "2021-02-24T10:30:21.964246",
     "status": "completed"
    },
    "tags": []
   },
   "outputs": [],
   "source": [
    "import numpy as np\n",
    "import pandas as pd\n",
    "import os\n",
    "import matplotlib.pyplot as plt\n",
    "import seaborn as sns\n",
    "import plotly.express as px\n",
    "from keras.applications.inception_v3 import InceptionV3,preprocess_input\n",
    "from keras.preprocessing.image import ImageDataGenerator\n",
    "from keras import layers,models\n",
    "from sklearn.model_selection import train_test_split"
   ]
  },
  {
   "cell_type": "markdown",
   "metadata": {
    "papermill": {
     "duration": 0.01545,
     "end_time": "2021-02-24T10:30:30.640964",
     "exception": false,
     "start_time": "2021-02-24T10:30:30.625514",
     "status": "completed"
    },
    "tags": []
   },
   "source": [
    "### Adding Data\n",
    "\n",
    "Here, the dataset is read into a dataframe. The train and test directory paths are saved for further use.\n",
    "\n",
    "The training data is further split into two parts as train and validation data. "
   ]
  },
  {
   "cell_type": "code",
   "execution_count": 2,
   "metadata": {
    "execution": {
     "iopub.execute_input": "2021-02-24T10:30:30.692640Z",
     "iopub.status.busy": "2021-02-24T10:30:30.691974Z",
     "iopub.status.idle": "2021-02-24T10:30:30.742373Z",
     "shell.execute_reply": "2021-02-24T10:30:30.741893Z"
    },
    "papermill": {
     "duration": 0.086452,
     "end_time": "2021-02-24T10:30:30.742513",
     "exception": false,
     "start_time": "2021-02-24T10:30:30.656061",
     "status": "completed"
    },
    "tags": []
   },
   "outputs": [
    {
     "name": "stdout",
     "output_type": "stream",
     "text": [
      "(5864, 2) (1467, 2)\n"
     ]
    },
    {
     "data": {
      "text/html": [
       "<div>\n",
       "<style scoped>\n",
       "    .dataframe tbody tr th:only-of-type {\n",
       "        vertical-align: middle;\n",
       "    }\n",
       "\n",
       "    .dataframe tbody tr th {\n",
       "        vertical-align: top;\n",
       "    }\n",
       "\n",
       "    .dataframe thead th {\n",
       "        text-align: right;\n",
       "    }\n",
       "</style>\n",
       "<table border=\"1\" class=\"dataframe\">\n",
       "  <thead>\n",
       "    <tr style=\"text-align: right;\">\n",
       "      <th></th>\n",
       "      <th>Image</th>\n",
       "      <th>Class</th>\n",
       "    </tr>\n",
       "  </thead>\n",
       "  <tbody>\n",
       "    <tr>\n",
       "      <th>0</th>\n",
       "      <td>image3476.jpg</td>\n",
       "      <td>Miscellaneous</td>\n",
       "    </tr>\n",
       "    <tr>\n",
       "      <th>1</th>\n",
       "      <td>image5198.jpg</td>\n",
       "      <td>Candle</td>\n",
       "    </tr>\n",
       "    <tr>\n",
       "      <th>2</th>\n",
       "      <td>image4183.jpg</td>\n",
       "      <td>Snowman</td>\n",
       "    </tr>\n",
       "    <tr>\n",
       "      <th>3</th>\n",
       "      <td>image1806.jpg</td>\n",
       "      <td>Miscellaneous</td>\n",
       "    </tr>\n",
       "    <tr>\n",
       "      <th>4</th>\n",
       "      <td>image7831.jpg</td>\n",
       "      <td>Miscellaneous</td>\n",
       "    </tr>\n",
       "  </tbody>\n",
       "</table>\n",
       "</div>"
      ],
      "text/plain": [
       "           Image          Class\n",
       "0  image3476.jpg  Miscellaneous\n",
       "1  image5198.jpg         Candle\n",
       "2  image4183.jpg        Snowman\n",
       "3  image1806.jpg  Miscellaneous\n",
       "4  image7831.jpg  Miscellaneous"
      ]
     },
     "execution_count": 2,
     "metadata": {},
     "output_type": "execute_result"
    }
   ],
   "source": [
    "df = pd.read_csv('../input/holiday-season-additional-classes/dataset/new_train.csv')\n",
    "TRAIN_DIR='../input/holiday-season-additional-classes/dataset/train'\n",
    "TEST_DIR='../input/holiday-season-additional-classes/dataset/test'\n",
    "\n",
    "train, val = train_test_split(df, test_size = 0.2, random_state = 42)\n",
    "print(train.shape, val.shape)\n",
    "df.head()"
   ]
  },
  {
   "cell_type": "markdown",
   "metadata": {
    "papermill": {
     "duration": 0.014857,
     "end_time": "2021-02-24T10:30:30.772333",
     "exception": false,
     "start_time": "2021-02-24T10:30:30.757476",
     "status": "completed"
    },
    "tags": []
   },
   "source": [
    "## Visualisation of data distribution in classes"
   ]
  },
  {
   "cell_type": "code",
   "execution_count": 3,
   "metadata": {
    "execution": {
     "iopub.execute_input": "2021-02-24T10:30:30.816815Z",
     "iopub.status.busy": "2021-02-24T10:30:30.815932Z",
     "iopub.status.idle": "2021-02-24T10:30:31.061731Z",
     "shell.execute_reply": "2021-02-24T10:30:31.062433Z"
    },
    "papermill": {
     "duration": 0.275429,
     "end_time": "2021-02-24T10:30:31.062680",
     "exception": false,
     "start_time": "2021-02-24T10:30:30.787251",
     "status": "completed"
    },
    "tags": []
   },
   "outputs": [
    {
     "data": {
      "text/plain": [
       "[Text(0, 0, 'Miscellaneous'),\n",
       " Text(1, 0, 'Candle'),\n",
       " Text(2, 0, 'Snowman'),\n",
       " Text(3, 0, 'Airplane'),\n",
       " Text(4, 0, 'Christmas_Tree'),\n",
       " Text(5, 0, 'Jacket'),\n",
       " Text(6, 0, 'Durga_puja'),\n",
       " Text(7, 0, 'Eid')]"
      ]
     },
     "execution_count": 3,
     "metadata": {},
     "output_type": "execute_result"
    },
    {
     "data": {
      "image/png": "[encoded data removed]",
      "text/plain": [
       "<Figure size 432x288 with 1 Axes>"
      ]
     },
     "metadata": {},
     "output_type": "display_data"
    }
   ],
   "source": [
    "sns.set_theme(style=\"darkgrid\")\n",
    "g= sns.countplot(x = 'Class', data = df, palette = 'flare');\n",
    "g.set_xticklabels(g.get_xticklabels(),rotation=90)"
   ]
  },
  {
   "cell_type": "code",
   "execution_count": 4,
   "metadata": {
    "execution": {
     "iopub.execute_input": "2021-02-24T10:30:31.109060Z",
     "iopub.status.busy": "2021-02-24T10:30:31.108248Z",
     "iopub.status.idle": "2021-02-24T10:30:32.064292Z",
     "shell.execute_reply": "2021-02-24T10:30:32.064814Z"
    },
    "papermill": {
     "duration": 0.983923,
     "end_time": "2021-02-24T10:30:32.064997",
     "exception": false,
     "start_time": "2021-02-24T10:30:31.081074",
     "status": "completed"
    },
    "tags": []
   },
   "outputs": [
    {
     "data": {
      "text/html": [
       "        <script type=\"text/javascript\">\n",
       "        window.PlotlyConfig = {MathJaxConfig: 'local'};\n",
       "        if (window.MathJax) {MathJax.Hub.Config({SVG: {font: \"STIX-Web\"}});}\n",
       "        if (typeof require !== 'undefined') {\n",
       "        require.undef(\"plotly\");\n",
       "        requirejs.config({\n",
       "            paths: {\n",
       "                'plotly': ['https://cdn.plot.ly/plotly-latest.min']\n",
       "            }\n",
       "        });\n",
       "        require(['plotly'], function(Plotly) {\n",
       "            window._Plotly = Plotly;\n",
       "        });\n",
       "        }\n",
       "        </script>\n",
       "        "
      ]
     },
     "metadata": {},
     "output_type": "display_data"
    },
    {
     "data": {
      "text/html": [
       "<div>                            <div id=\"2b487e80-f455-4679-aa83-fb6dae11fcec\" class=\"plotly-graph-div\" style=\"height:525px; width:100%;\"></div>            <script type=\"text/javascript\">                require([\"plotly\"], function(Plotly) {                    window.PLOTLYENV=window.PLOTLYENV || {};                                    if (document.getElementById(\"2b487e80-f455-4679-aa83-fb6dae11fcec\")) {                    Plotly.newPlot(                        \"2b487e80-f455-4679-aa83-fb6dae11fcec\",                        [{\"domain\": {\"x\": [0.0, 1.0], \"y\": [0.0, 1.0]}, \"hovertemplate\": \"Class=%{label}<br>count=%{value}<extra></extra>\", \"labels\": [\"Miscellaneous\", \"Christmas_Tree\", \"Jacket\", \"Candle\", \"Airplane\", \"Eid\", \"Durga_puja\", \"Snowman\"], \"legendgroup\": \"\", \"name\": \"\", \"showlegend\": true, \"type\": \"pie\", \"values\": [2801, 1539, 640, 593, 535, 493, 369, 361]}],                        {\"legend\": {\"tracegroupgap\": 0}, \"margin\": {\"t\": 60}, \"piecolorway\": [\"rgb(102, 197, 204)\", \"rgb(246, 207, 113)\", \"rgb(248, 156, 116)\", \"rgb(220, 176, 242)\", \"rgb(135, 197, 95)\", \"rgb(158, 185, 243)\", \"rgb(254, 136, 177)\", \"rgb(201, 219, 116)\", \"rgb(139, 224, 164)\", \"rgb(180, 151, 231)\", \"rgb(179, 179, 179)\"], \"template\": {\"data\": {\"bar\": [{\"error_x\": {\"color\": \"#2a3f5f\"}, \"error_y\": {\"color\": \"#2a3f5f\"}, \"marker\": {\"line\": {\"color\": \"#E5ECF6\", \"width\": 0.5}}, \"type\": \"bar\"}], \"barpolar\": [{\"marker\": {\"line\": {\"color\": \"#E5ECF6\", \"width\": 0.5}}, \"type\": \"barpolar\"}], \"carpet\": [{\"aaxis\": {\"endlinecolor\": \"#2a3f5f\", \"gridcolor\": \"white\", \"linecolor\": \"white\", \"minorgridcolor\": \"white\", \"startlinecolor\": \"#2a3f5f\"}, \"baxis\": {\"endlinecolor\": \"#2a3f5f\", \"gridcolor\": \"white\", \"linecolor\": \"white\", \"minorgridcolor\": \"white\", \"startlinecolor\": \"#2a3f5f\"}, \"type\": \"carpet\"}], \"choropleth\": [{\"colorbar\": {\"outlinewidth\": 0, \"ticks\": \"\"}, \"type\": \"choropleth\"}], \"contour\": [{\"colorbar\": {\"outlinewidth\": 0, \"ticks\": \"\"}, \"colorscale\": [[0.0, \"#0d0887\"], [0.1111111111111111, \"#46039f\"], [0.2222222222222222, \"#7201a8\"], [0.3333333333333333, \"#9c179e\"], [0.4444444444444444, \"#bd3786\"], [0.5555555555555556, \"#d8576b\"], [0.6666666666666666, \"#ed7953\"], [0.7777777777777778, \"#fb9f3a\"], [0.8888888888888888, \"#fdca26\"], [1.0, \"#f0f921\"]], \"type\": \"contour\"}], \"contourcarpet\": [{\"colorbar\": {\"outlinewidth\": 0, \"ticks\": \"\"}, \"type\": \"contourcarpet\"}], \"heatmap\": [{\"colorbar\": {\"outlinewidth\": 0, \"ticks\": \"\"}, \"colorscale\": [[0.0, \"#0d0887\"], [0.1111111111111111, \"#46039f\"], [0.2222222222222222, \"#7201a8\"], [0.3333333333333333, \"#9c179e\"], [0.4444444444444444, \"#bd3786\"], [0.5555555555555556, \"#d8576b\"], [0.6666666666666666, \"#ed7953\"], [0.7777777777777778, \"#fb9f3a\"], [0.8888888888888888, \"#fdca26\"], [1.0, \"#f0f921\"]], \"type\": \"heatmap\"}], \"heatmapgl\": [{\"colorbar\": {\"outlinewidth\": 0, \"ticks\": \"\"}, \"colorscale\": [[0.0, \"#0d0887\"], [0.1111111111111111, \"#46039f\"], [0.2222222222222222, \"#7201a8\"], [0.3333333333333333, \"#9c179e\"], [0.4444444444444444, \"#bd3786\"], [0.5555555555555556, \"#d8576b\"], [0.6666666666666666, \"#ed7953\"], [0.7777777777777778, \"#fb9f3a\"], [0.8888888888888888, \"#fdca26\"], [1.0, \"#f0f921\"]], \"type\": \"heatmapgl\"}], \"histogram\": [{\"marker\": {\"colorbar\": {\"outlinewidth\": 0, \"ticks\": \"\"}}, \"type\": \"histogram\"}], \"histogram2d\": [{\"colorbar\": {\"outlinewidth\": 0, \"ticks\": \"\"}, \"colorscale\": [[0.0, \"#0d0887\"], [0.1111111111111111, \"#46039f\"], [0.2222222222222222, \"#7201a8\"], [0.3333333333333333, \"#9c179e\"], [0.4444444444444444, \"#bd3786\"], [0.5555555555555556, \"#d8576b\"], [0.6666666666666666, \"#ed7953\"], [0.7777777777777778, \"#fb9f3a\"], [0.8888888888888888, \"#fdca26\"], [1.0, \"#f0f921\"]], \"type\": \"histogram2d\"}], \"histogram2dcontour\": [{\"colorbar\": {\"outlinewidth\": 0, \"ticks\": \"\"}, \"colorscale\": [[0.0, \"#0d0887\"], [0.1111111111111111, \"#46039f\"], [0.2222222222222222, \"#7201a8\"], [0.3333333333333333, \"#9c179e\"], [0.4444444444444444, \"#bd3786\"], [0.5555555555555556, \"#d8576b\"], [0.6666666666666666, \"#ed7953\"], [0.7777777777777778, \"#fb9f3a\"], [0.8888888888888888, \"#fdca26\"], [1.0, \"#f0f921\"]], \"type\": \"histogram2dcontour\"}], \"mesh3d\": [{\"colorbar\": {\"outlinewidth\": 0, \"ticks\": \"\"}, \"type\": \"mesh3d\"}], \"parcoords\": [{\"line\": {\"colorbar\": {\"outlinewidth\": 0, \"ticks\": \"\"}}, \"type\": \"parcoords\"}], \"pie\": [{\"automargin\": true, \"type\": \"pie\"}], \"scatter\": [{\"marker\": {\"colorbar\": {\"outlinewidth\": 0, \"ticks\": \"\"}}, \"type\": \"scatter\"}], \"scatter3d\": [{\"line\": {\"colorbar\": {\"outlinewidth\": 0, \"ticks\": \"\"}}, \"marker\": {\"colorbar\": {\"outlinewidth\": 0, \"ticks\": \"\"}}, \"type\": \"scatter3d\"}], \"scattercarpet\": [{\"marker\": {\"colorbar\": {\"outlinewidth\": 0, \"ticks\": \"\"}}, \"type\": \"scattercarpet\"}], \"scattergeo\": [{\"marker\": {\"colorbar\": {\"outlinewidth\": 0, \"ticks\": \"\"}}, \"type\": \"scattergeo\"}], \"scattergl\": [{\"marker\": {\"colorbar\": {\"outlinewidth\": 0, \"ticks\": \"\"}}, \"type\": \"scattergl\"}], \"scattermapbox\": [{\"marker\": {\"colorbar\": {\"outlinewidth\": 0, \"ticks\": \"\"}}, \"type\": \"scattermapbox\"}], \"scatterpolar\": [{\"marker\": {\"colorbar\": {\"outlinewidth\": 0, \"ticks\": \"\"}}, \"type\": \"scatterpolar\"}], \"scatterpolargl\": [{\"marker\": {\"colorbar\": {\"outlinewidth\": 0, \"ticks\": \"\"}}, \"type\": \"scatterpolargl\"}], \"scatterternary\": [{\"marker\": {\"colorbar\": {\"outlinewidth\": 0, \"ticks\": \"\"}}, \"type\": \"scatterternary\"}], \"surface\": [{\"colorbar\": {\"outlinewidth\": 0, \"ticks\": \"\"}, \"colorscale\": [[0.0, \"#0d0887\"], [0.1111111111111111, \"#46039f\"], [0.2222222222222222, \"#7201a8\"], [0.3333333333333333, \"#9c179e\"], [0.4444444444444444, \"#bd3786\"], [0.5555555555555556, \"#d8576b\"], [0.6666666666666666, \"#ed7953\"], [0.7777777777777778, \"#fb9f3a\"], [0.8888888888888888, \"#fdca26\"], [1.0, \"#f0f921\"]], \"type\": \"surface\"}], \"table\": [{\"cells\": {\"fill\": {\"color\": \"#EBF0F8\"}, \"line\": {\"color\": \"white\"}}, \"header\": {\"fill\": {\"color\": \"#C8D4E3\"}, \"line\": {\"color\": \"white\"}}, \"type\": \"table\"}]}, \"layout\": {\"annotationdefaults\": {\"arrowcolor\": \"#2a3f5f\", \"arrowhead\": 0, \"arrowwidth\": 1}, \"autotypenumbers\": \"strict\", \"coloraxis\": {\"colorbar\": {\"outlinewidth\": 0, \"ticks\": \"\"}}, \"colorscale\": {\"diverging\": [[0, \"#8e0152\"], [0.1, \"#c51b7d\"], [0.2, \"#de77ae\"], [0.3, \"#f1b6da\"], [0.4, \"#fde0ef\"], [0.5, \"#f7f7f7\"], [0.6, \"#e6f5d0\"], [0.7, \"#b8e186\"], [0.8, \"#7fbc41\"], [0.9, \"#4d9221\"], [1, \"#276419\"]], \"sequential\": [[0.0, \"#0d0887\"], [0.1111111111111111, \"#46039f\"], [0.2222222222222222, \"#7201a8\"], [0.3333333333333333, \"#9c179e\"], [0.4444444444444444, \"#bd3786\"], [0.5555555555555556, \"#d8576b\"], [0.6666666666666666, \"#ed7953\"], [0.7777777777777778, \"#fb9f3a\"], [0.8888888888888888, \"#fdca26\"], [1.0, \"#f0f921\"]], \"sequentialminus\": [[0.0, \"#0d0887\"], [0.1111111111111111, \"#46039f\"], [0.2222222222222222, \"#7201a8\"], [0.3333333333333333, \"#9c179e\"], [0.4444444444444444, \"#bd3786\"], [0.5555555555555556, \"#d8576b\"], [0.6666666666666666, \"#ed7953\"], [0.7777777777777778, \"#fb9f3a\"], [0.8888888888888888, \"#fdca26\"], [1.0, \"#f0f921\"]]}, \"colorway\": [\"#636efa\", \"#EF553B\", \"#00cc96\", \"#ab63fa\", \"#FFA15A\", \"#19d3f3\", \"#FF6692\", \"#B6E880\", \"#FF97FF\", \"#FECB52\"], \"font\": {\"color\": \"#2a3f5f\"}, \"geo\": {\"bgcolor\": \"white\", \"lakecolor\": \"white\", \"landcolor\": \"#E5ECF6\", \"showlakes\": true, \"showland\": true, \"subunitcolor\": \"white\"}, \"hoverlabel\": {\"align\": \"left\"}, \"hovermode\": \"closest\", \"mapbox\": {\"style\": \"light\"}, \"paper_bgcolor\": \"white\", \"plot_bgcolor\": \"#E5ECF6\", \"polar\": {\"angularaxis\": {\"gridcolor\": \"white\", \"linecolor\": \"white\", \"ticks\": \"\"}, \"bgcolor\": \"#E5ECF6\", \"radialaxis\": {\"gridcolor\": \"white\", \"linecolor\": \"white\", \"ticks\": \"\"}}, \"scene\": {\"xaxis\": {\"backgroundcolor\": \"#E5ECF6\", \"gridcolor\": \"white\", \"gridwidth\": 2, \"linecolor\": \"white\", \"showbackground\": true, \"ticks\": \"\", \"zerolinecolor\": \"white\"}, \"yaxis\": {\"backgroundcolor\": \"#E5ECF6\", \"gridcolor\": \"white\", \"gridwidth\": 2, \"linecolor\": \"white\", \"showbackground\": true, \"ticks\": \"\", \"zerolinecolor\": \"white\"}, \"zaxis\": {\"backgroundcolor\": \"#E5ECF6\", \"gridcolor\": \"white\", \"gridwidth\": 2, \"linecolor\": \"white\", \"showbackground\": true, \"ticks\": \"\", \"zerolinecolor\": \"white\"}}, \"shapedefaults\": {\"line\": {\"color\": \"#2a3f5f\"}}, \"ternary\": {\"aaxis\": {\"gridcolor\": \"white\", \"linecolor\": \"white\", \"ticks\": \"\"}, \"baxis\": {\"gridcolor\": \"white\", \"linecolor\": \"white\", \"ticks\": \"\"}, \"bgcolor\": \"#E5ECF6\", \"caxis\": {\"gridcolor\": \"white\", \"linecolor\": \"white\", \"ticks\": \"\"}}, \"title\": {\"x\": 0.05}, \"xaxis\": {\"automargin\": true, \"gridcolor\": \"white\", \"linecolor\": \"white\", \"ticks\": \"\", \"title\": {\"standoff\": 15}, \"zerolinecolor\": \"white\", \"zerolinewidth\": 2}, \"yaxis\": {\"automargin\": true, \"gridcolor\": \"white\", \"linecolor\": \"white\", \"ticks\": \"\", \"title\": {\"standoff\": 15}, \"zerolinecolor\": \"white\", \"zerolinewidth\": 2}}}},                        {\"responsive\": true}                    ).then(function(){\n",
       "                            \n",
       "var gd = document.getElementById('2b487e80-f455-4679-aa83-fb6dae11fcec');\n",
       "var x = new MutationObserver(function (mutations, observer) {{\n",
       "        var display = window.getComputedStyle(gd).display;\n",
       "        if (!display || display === 'none') {{\n",
       "            console.log([gd, 'removed!']);\n",
       "            Plotly.purge(gd);\n",
       "            observer.disconnect();\n",
       "        }}\n",
       "}});\n",
       "\n",
       "// Listen for the removal of the full notebook cells\n",
       "var notebookContainer = gd.closest('#notebook-container');\n",
       "if (notebookContainer) {{\n",
       "    x.observe(notebookContainer, {childList: true});\n",
       "}}\n",
       "\n",
       "// Listen for the clearing of the current output cell\n",
       "var outputEl = gd.closest('.output');\n",
       "if (outputEl) {{\n",
       "    x.observe(outputEl, {childList: true});\n",
       "}}\n",
       "\n",
       "                        })                };                });            </script>        </div>"
      ]
     },
     "metadata": {},
     "output_type": "display_data"
    }
   ],
   "source": [
    "pie_df = df['Class'].value_counts().reset_index()\n",
    "pie_df.columns = ['Class', 'count']\n",
    "fig = px.pie(pie_df, values = 'count', names = 'Class', color_discrete_sequence = px.colors.qualitative.Pastel)\n",
    "fig.show()"
   ]
  },
  {
   "cell_type": "markdown",
   "metadata": {
    "papermill": {
     "duration": 0.018279,
     "end_time": "2021-02-24T10:30:32.101979",
     "exception": false,
     "start_time": "2021-02-24T10:30:32.083700",
     "status": "completed"
    },
    "tags": []
   },
   "source": [
    "## Pro-processing\n",
    "\n",
    "The images in train and validation dataframes are loaded in bathes from their respective directives. The images are resized to have shape (299,299,3) as they are loaded."
   ]
  },
  {
   "cell_type": "code",
   "execution_count": 5,
   "metadata": {
    "execution": {
     "iopub.execute_input": "2021-02-24T10:30:32.147385Z",
     "iopub.status.busy": "2021-02-24T10:30:32.146487Z",
     "iopub.status.idle": "2021-02-24T10:31:02.679945Z",
     "shell.execute_reply": "2021-02-24T10:31:02.679204Z"
    },
    "papermill": {
     "duration": 30.559745,
     "end_time": "2021-02-24T10:31:02.680135",
     "exception": false,
     "start_time": "2021-02-24T10:30:32.120390",
     "status": "completed"
    },
    "tags": []
   },
   "outputs": [
    {
     "name": "stderr",
     "output_type": "stream",
     "text": [
      "/opt/conda/lib/python3.7/site-packages/keras_preprocessing/image/dataframe_iterator.py:282: UserWarning:\n",
      "\n",
      "Found 30 invalid image filename(s) in x_col=\"Image\". These filename(s) will be ignored.\n",
      "\n"
     ]
    },
    {
     "name": "stdout",
     "output_type": "stream",
     "text": [
      "Found 5834 validated image filenames belonging to 8 classes.\n",
      "Found 1462 validated image filenames belonging to 8 classes.\n"
     ]
    },
    {
     "name": "stderr",
     "output_type": "stream",
     "text": [
      "/opt/conda/lib/python3.7/site-packages/keras_preprocessing/image/dataframe_iterator.py:282: UserWarning:\n",
      "\n",
      "Found 5 invalid image filename(s) in x_col=\"Image\". These filename(s) will be ignored.\n",
      "\n"
     ]
    }
   ],
   "source": [
    "train_datagen = ImageDataGenerator(preprocessing_function=preprocess_input)\n",
    "\n",
    "training_set = train_datagen.flow_from_dataframe(dataframe=train, directory=TRAIN_DIR,\n",
    "                                                 x_col=\"Image\", y_col=\"Class\",\n",
    "                                                 class_mode=\"categorical\",\n",
    "                                                 target_size=(299,299), batch_size=32)\n",
    "\n",
    "validation_datagen = ImageDataGenerator(rescale = 1./255)\n",
    "\n",
    "validation_set = validation_datagen.flow_from_dataframe(dataframe=val, directory=TRAIN_DIR,\n",
    "                                                 x_col=\"Image\", y_col=\"Class\",\n",
    "                                                 class_mode=\"categorical\",\n",
    "                                                 target_size=(299,299), batch_size=32)"
   ]
  },
  {
   "cell_type": "markdown",
   "metadata": {
    "papermill": {
     "duration": 0.019886,
     "end_time": "2021-02-24T10:31:02.720316",
     "exception": false,
     "start_time": "2021-02-24T10:31:02.700430",
     "status": "completed"
    },
    "tags": []
   },
   "source": [
    "## Importing the Inception V3 pre-trained model from Keras"
   ]
  },
  {
   "cell_type": "code",
   "execution_count": 6,
   "metadata": {
    "execution": {
     "iopub.execute_input": "2021-02-24T10:31:02.769294Z",
     "iopub.status.busy": "2021-02-24T10:31:02.768519Z",
     "iopub.status.idle": "2021-02-24T10:31:08.383699Z",
     "shell.execute_reply": "2021-02-24T10:31:08.382542Z"
    },
    "papermill": {
     "duration": 5.643203,
     "end_time": "2021-02-24T10:31:08.383855",
     "exception": false,
     "start_time": "2021-02-24T10:31:02.740652",
     "status": "completed"
    },
    "tags": []
   },
   "outputs": [
    {
     "name": "stdout",
     "output_type": "stream",
     "text": [
      "Downloading data from https://storage.googleapis.com/tensorflow/keras-applications/inception_v3/inception_v3_weights_tf_dim_ordering_tf_kernels_notop.h5\n",
      "87916544/87910968 [==============================] - 1s 0us/step\n"
     ]
    }
   ],
   "source": [
    "base_model = InceptionV3(include_top=False,weights='imagenet',input_shape=(299,299,3))\n",
    "base_model.trainable = False"
   ]
  },
  {
   "cell_type": "markdown",
   "metadata": {
    "papermill": {
     "duration": 0.025053,
     "end_time": "2021-02-24T10:31:08.434952",
     "exception": false,
     "start_time": "2021-02-24T10:31:08.409899",
     "status": "completed"
    },
    "tags": []
   },
   "source": [
    "### Adding a few final layers to the model \n",
    "\n",
    "Some layers like GLobal Average Pooling and Dense layers are added. The final output layer will have 8 outputs for each of the 8 classes."
   ]
  },
  {
   "cell_type": "code",
   "execution_count": 7,
   "metadata": {
    "execution": {
     "iopub.execute_input": "2021-02-24T10:31:08.495006Z",
     "iopub.status.busy": "2021-02-24T10:31:08.494007Z",
     "iopub.status.idle": "2021-02-24T10:31:09.149592Z",
     "shell.execute_reply": "2021-02-24T10:31:09.148754Z"
    },
    "papermill": {
     "duration": 0.68948,
     "end_time": "2021-02-24T10:31:09.149777",
     "exception": false,
     "start_time": "2021-02-24T10:31:08.460297",
     "status": "completed"
    },
    "tags": []
   },
   "outputs": [
    {
     "name": "stdout",
     "output_type": "stream",
     "text": [
      "Model: \"sequential\"\n",
      "_________________________________________________________________\n",
      "Layer (type)                 Output Shape              Param #   \n",
      "=================================================================\n",
      "inception_v3 (Functional)    (None, 8, 8, 2048)        21802784  \n",
      "_________________________________________________________________\n",
      "global_average_pooling2d (Gl (None, 2048)              0         \n",
      "_________________________________________________________________\n",
      "dense (Dense)                (None, 512)               1049088   \n",
      "_________________________________________________________________\n",
      "dropout (Dropout)            (None, 512)               0         \n",
      "_________________________________________________________________\n",
      "dense_1 (Dense)              (None, 256)               131328    \n",
      "_________________________________________________________________\n",
      "dense_2 (Dense)              (None, 8)                 2056      \n",
      "=================================================================\n",
      "Total params: 22,985,256\n",
      "Trainable params: 1,182,472\n",
      "Non-trainable params: 21,802,784\n",
      "_________________________________________________________________\n"
     ]
    }
   ],
   "source": [
    "model = models.Sequential()\n",
    "model.add(base_model)\n",
    "model.add(layers.GlobalAveragePooling2D())\n",
    "model.add(layers.Dense(512,activation='relu'))\n",
    "model.add(layers.Dropout(0.5))\n",
    "model.add(layers.Dense(256,activation='relu'))\n",
    "model.add(layers.Dense(8,activation='softmax'))\n",
    "model.summary()"
   ]
  },
  {
   "cell_type": "markdown",
   "metadata": {
    "papermill": {
     "duration": 0.026453,
     "end_time": "2021-02-24T10:31:09.203287",
     "exception": false,
     "start_time": "2021-02-24T10:31:09.176834",
     "status": "completed"
    },
    "tags": []
   },
   "source": [
    "## Training the model\n",
    "\n",
    "The model is compiled and trained for the given training data for 12 epochs. "
   ]
  },
  {
   "cell_type": "code",
   "execution_count": 8,
   "metadata": {
    "execution": {
     "iopub.execute_input": "2021-02-24T10:31:09.276147Z",
     "iopub.status.busy": "2021-02-24T10:31:09.275109Z",
     "iopub.status.idle": "2021-02-24T10:31:09.285632Z",
     "shell.execute_reply": "2021-02-24T10:31:09.284965Z"
    },
    "papermill": {
     "duration": 0.054292,
     "end_time": "2021-02-24T10:31:09.285786",
     "exception": false,
     "start_time": "2021-02-24T10:31:09.231494",
     "status": "completed"
    },
    "tags": []
   },
   "outputs": [],
   "source": [
    "model.compile(\n",
    "    optimizer='adam',\n",
    "    loss = 'categorical_crossentropy',\n",
    "    metrics = ['accuracy'])"
   ]
  },
  {
   "cell_type": "code",
   "execution_count": 9,
   "metadata": {
    "execution": {
     "iopub.execute_input": "2021-02-24T10:31:09.347232Z",
     "iopub.status.busy": "2021-02-24T10:31:09.346488Z",
     "iopub.status.idle": "2021-02-24T10:39:21.065889Z",
     "shell.execute_reply": "2021-02-24T10:39:21.066518Z"
    },
    "papermill": {
     "duration": 491.754128,
     "end_time": "2021-02-24T10:39:21.066782",
     "exception": false,
     "start_time": "2021-02-24T10:31:09.312654",
     "status": "completed"
    },
    "tags": []
   },
   "outputs": [
    {
     "name": "stdout",
     "output_type": "stream",
     "text": [
      "Epoch 1/12\n",
      "183/183 [==============================] - 105s 533ms/step - loss: 1.0685 - accuracy: 0.6514 - val_loss: 0.4289 - val_accuracy: 0.8427\n",
      "Epoch 2/12\n",
      "183/183 [==============================] - 35s 193ms/step - loss: 0.4072 - accuracy: 0.8597 - val_loss: 0.4395 - val_accuracy: 0.8399\n",
      "Epoch 3/12\n",
      "183/183 [==============================] - 35s 190ms/step - loss: 0.3746 - accuracy: 0.8698 - val_loss: 0.3575 - val_accuracy: 0.8639\n",
      "Epoch 4/12\n",
      "183/183 [==============================] - 35s 193ms/step - loss: 0.3176 - accuracy: 0.8909 - val_loss: 0.3507 - val_accuracy: 0.8646\n",
      "Epoch 5/12\n",
      "183/183 [==============================] - 35s 192ms/step - loss: 0.2940 - accuracy: 0.8932 - val_loss: 0.3434 - val_accuracy: 0.8714\n",
      "Epoch 6/12\n",
      "183/183 [==============================] - 34s 184ms/step - loss: 0.2750 - accuracy: 0.9014 - val_loss: 0.3570 - val_accuracy: 0.8776\n",
      "Epoch 7/12\n",
      "183/183 [==============================] - 35s 191ms/step - loss: 0.2417 - accuracy: 0.9148 - val_loss: 0.4303 - val_accuracy: 0.8550\n",
      "Epoch 8/12\n",
      "183/183 [==============================] - 35s 192ms/step - loss: 0.2350 - accuracy: 0.9197 - val_loss: 0.3193 - val_accuracy: 0.8762\n",
      "Epoch 9/12\n",
      "183/183 [==============================] - 36s 194ms/step - loss: 0.2020 - accuracy: 0.9280 - val_loss: 0.3450 - val_accuracy: 0.8810\n",
      "Epoch 10/12\n",
      "183/183 [==============================] - 35s 190ms/step - loss: 0.1943 - accuracy: 0.9307 - val_loss: 0.4052 - val_accuracy: 0.8659\n",
      "Epoch 11/12\n",
      "183/183 [==============================] - 34s 184ms/step - loss: 0.1929 - accuracy: 0.9292 - val_loss: 0.3693 - val_accuracy: 0.8858\n",
      "Epoch 12/12\n",
      "183/183 [==============================] - 35s 193ms/step - loss: 0.1773 - accuracy: 0.9355 - val_loss: 0.3508 - val_accuracy: 0.8912\n"
     ]
    }
   ],
   "source": [
    "train_steps = np.ceil(training_set.n/training_set.batch_size)\n",
    "history = model.fit(\n",
    "    training_set,\n",
    "  validation_data=validation_set,\n",
    "    epochs=12,\n",
    "    batch_size=32,\n",
    "    steps_per_epoch=train_steps)"
   ]
  },
  {
   "cell_type": "markdown",
   "metadata": {
    "papermill": {
     "duration": 0.853537,
     "end_time": "2021-02-24T10:39:22.804360",
     "exception": false,
     "start_time": "2021-02-24T10:39:21.950823",
     "status": "completed"
    },
    "tags": []
   },
   "source": [
    "### Performance Evaluation using Learning Curves\n",
    "\n",
    "The model slightly overfits, but eventually shows proper fit with both validation accuracy very close to training accuracy"
   ]
  },
  {
   "cell_type": "code",
   "execution_count": 10,
   "metadata": {
    "execution": {
     "iopub.execute_input": "2021-02-24T10:39:24.546652Z",
     "iopub.status.busy": "2021-02-24T10:39:24.545539Z",
     "iopub.status.idle": "2021-02-24T10:39:25.150769Z",
     "shell.execute_reply": "2021-02-24T10:39:25.151794Z"
    },
    "papermill": {
     "duration": 1.505203,
     "end_time": "2021-02-24T10:39:25.152021",
     "exception": false,
     "start_time": "2021-02-24T10:39:23.646818",
     "status": "completed"
    },
    "tags": []
   },
   "outputs": [
    {
     "data": {
      "image/png": "[encoded data removed]",
      "text/plain": [
       "<Figure size 432x288 with 1 Axes>"
      ]
     },
     "metadata": {},
     "output_type": "display_data"
    },
    {
     "data": {
      "image/png": "[encoded data removed]",
      "text/plain": [
       "<Figure size 432x288 with 1 Axes>"
      ]
     },
     "metadata": {},
     "output_type": "display_data"
    }
   ],
   "source": [
    "acc = history.history['accuracy']\n",
    "val_acc = history.history['val_accuracy']\n",
    "loss = history.history['loss']\n",
    "val_loss = history.history['val_loss'] \n",
    "\n",
    "epochs = range(len(acc))\n",
    "\n",
    "plt.plot(epochs, acc, 'c-', label='Training accuracy')\n",
    "plt.plot(epochs, val_acc, 'y-', label='Validation accuracy')\n",
    "plt.title('Training and validation accuracy')\n",
    "plt.xlabel('Epoch')\n",
    "plt.ylabel('Accuracy')\n",
    "plt.legend()\n",
    "\n",
    "plt.figure()\n",
    "\n",
    "plt.plot(epochs, loss, 'c-', label='Training Loss')\n",
    "plt.plot(epochs, val_loss, 'y-', label='Validation Loss')\n",
    "plt.title('Training and validation loss')\n",
    "plt.xlabel('Epoch')\n",
    "plt.ylabel('Loss')\n",
    "plt.legend()\n",
    "\n",
    "plt.show()"
   ]
  },
  {
   "cell_type": "code",
   "execution_count": 11,
   "metadata": {
    "execution": {
     "iopub.execute_input": "2021-02-24T10:39:26.875122Z",
     "iopub.status.busy": "2021-02-24T10:39:26.874452Z",
     "iopub.status.idle": "2021-02-24T10:39:27.674945Z",
     "shell.execute_reply": "2021-02-24T10:39:27.674387Z"
    },
    "papermill": {
     "duration": 1.599532,
     "end_time": "2021-02-24T10:39:27.675088",
     "exception": false,
     "start_time": "2021-02-24T10:39:26.075556",
     "status": "completed"
    },
    "tags": []
   },
   "outputs": [
    {
     "data": {
      "text/html": [
       "<div>\n",
       "<style scoped>\n",
       "    .dataframe tbody tr th:only-of-type {\n",
       "        vertical-align: middle;\n",
       "    }\n",
       "\n",
       "    .dataframe tbody tr th {\n",
       "        vertical-align: top;\n",
       "    }\n",
       "\n",
       "    .dataframe thead th {\n",
       "        text-align: right;\n",
       "    }\n",
       "</style>\n",
       "<table border=\"1\" class=\"dataframe\">\n",
       "  <thead>\n",
       "    <tr style=\"text-align: right;\">\n",
       "      <th></th>\n",
       "      <th>Image</th>\n",
       "    </tr>\n",
       "  </thead>\n",
       "  <tbody>\n",
       "    <tr>\n",
       "      <th>0</th>\n",
       "      <td>image7761.jpg</td>\n",
       "    </tr>\n",
       "    <tr>\n",
       "      <th>1</th>\n",
       "      <td>image3202.jpg</td>\n",
       "    </tr>\n",
       "    <tr>\n",
       "      <th>2</th>\n",
       "      <td>image688.jpg</td>\n",
       "    </tr>\n",
       "    <tr>\n",
       "      <th>3</th>\n",
       "      <td>image233.jpg</td>\n",
       "    </tr>\n",
       "    <tr>\n",
       "      <th>4</th>\n",
       "      <td>image4332.jpg</td>\n",
       "    </tr>\n",
       "  </tbody>\n",
       "</table>\n",
       "</div>"
      ],
      "text/plain": [
       "           Image\n",
       "0  image7761.jpg\n",
       "1  image3202.jpg\n",
       "2   image688.jpg\n",
       "3   image233.jpg\n",
       "4  image4332.jpg"
      ]
     },
     "execution_count": 11,
     "metadata": {},
     "output_type": "execute_result"
    }
   ],
   "source": [
    "test_df = pd.DataFrame()\n",
    "test_images = os.listdir(TEST_DIR)\n",
    "test_df['Image']=test_images\n",
    "test_df.head()"
   ]
  },
  {
   "cell_type": "markdown",
   "metadata": {
    "papermill": {
     "duration": 0.788606,
     "end_time": "2021-02-24T10:39:29.256669",
     "exception": false,
     "start_time": "2021-02-24T10:39:28.468063",
     "status": "completed"
    },
    "tags": []
   },
   "source": [
    "## Testing the model \n",
    "\n",
    "The model is then tested for the test data given. The output is saved in pred.csv file. "
   ]
  },
  {
   "cell_type": "code",
   "execution_count": 12,
   "metadata": {
    "execution": {
     "iopub.execute_input": "2021-02-24T10:39:30.855685Z",
     "iopub.status.busy": "2021-02-24T10:39:30.854919Z",
     "iopub.status.idle": "2021-02-24T10:39:42.140065Z",
     "shell.execute_reply": "2021-02-24T10:39:42.139108Z"
    },
    "papermill": {
     "duration": 12.09282,
     "end_time": "2021-02-24T10:39:42.140243",
     "exception": false,
     "start_time": "2021-02-24T10:39:30.047423",
     "status": "completed"
    },
    "tags": []
   },
   "outputs": [
    {
     "name": "stdout",
     "output_type": "stream",
     "text": [
      "Found 3489 validated image filenames.\n"
     ]
    }
   ],
   "source": [
    "test_generator = train_datagen.flow_from_dataframe(\n",
    "    test_df,\n",
    "    directory=TEST_DIR,\n",
    "    x_col = 'Image',\n",
    "    y_col = None,\n",
    "    target_size=(299,299),\n",
    "    class_mode = None,\n",
    "    batch_size=32,\n",
    "    shuffle = False)"
   ]
  },
  {
   "cell_type": "code",
   "execution_count": 13,
   "metadata": {
    "execution": {
     "iopub.execute_input": "2021-02-24T10:39:43.740157Z",
     "iopub.status.busy": "2021-02-24T10:39:43.739364Z",
     "iopub.status.idle": "2021-02-24T10:40:19.197124Z",
     "shell.execute_reply": "2021-02-24T10:40:19.196556Z"
    },
    "papermill": {
     "duration": 36.254183,
     "end_time": "2021-02-24T10:40:19.197292",
     "exception": false,
     "start_time": "2021-02-24T10:39:42.943109",
     "status": "completed"
    },
    "tags": []
   },
   "outputs": [
    {
     "name": "stdout",
     "output_type": "stream",
     "text": [
      "110/110 [==============================] - 35s 307ms/step\n"
     ]
    }
   ],
   "source": [
    "test_steps = np.ceil(test_generator.n/test_generator.batch_size)\n",
    "pred = model.predict(\n",
    "    test_generator,\n",
    "    steps = test_steps,\n",
    "    verbose = 1)\n",
    "\n",
    "pred = np.argmax(pred,axis=-1)"
   ]
  },
  {
   "cell_type": "code",
   "execution_count": 14,
   "metadata": {
    "execution": {
     "iopub.execute_input": "2021-02-24T10:40:21.201467Z",
     "iopub.status.busy": "2021-02-24T10:40:21.200434Z",
     "iopub.status.idle": "2021-02-24T10:40:21.319060Z",
     "shell.execute_reply": "2021-02-24T10:40:21.318381Z"
    },
    "papermill": {
     "duration": 1.13384,
     "end_time": "2021-02-24T10:40:21.319224",
     "exception": false,
     "start_time": "2021-02-24T10:40:20.185384",
     "status": "completed"
    },
    "tags": []
   },
   "outputs": [],
   "source": [
    "test_df['Class']=pred\n",
    "num_to_class = dict((y,x) for (x,y) in training_set.class_indices.items())\n",
    "test_df['Class']=test_df['Class'].map(num_to_class)\n",
    "test_df.to_csv('pred.csv',index=False)"
   ]
  }
 ],
 "metadata": {
  "kernelspec": {
   "display_name": "Python 3",
   "language": "python",
   "name": "python3"
  },
  "language_info": {
   "codemirror_mode": {
    "name": "ipython",
    "version": 3
   },
   "file_extension": ".py",
   "mimetype": "text/x-python",
   "name": "python",
   "nbconvert_exporter": "python",
   "pygments_lexer": "ipython3",
   "version": "3.7.9"
  },
  "papermill": {
   "default_parameters": {},
   "duration": 610.095067,
   "end_time": "2021-02-24T10:40:26.330792",
   "environment_variables": {},
   "exception": null,
   "input_path": "__notebook__.ipynb",
   "output_path": "__notebook__.ipynb",
   "parameters": {},
   "start_time": "2021-02-24T10:30:16.235725",
   "version": "2.2.2"
  }
 },
 "nbformat": 4,
 "nbformat_minor": 4
}
